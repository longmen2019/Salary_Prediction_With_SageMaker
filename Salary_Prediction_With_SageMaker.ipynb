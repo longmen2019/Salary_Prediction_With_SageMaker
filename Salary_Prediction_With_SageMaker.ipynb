{
 "cells": [
  {
   "cell_type": "markdown",
   "id": "6d20558b-4c4f-4a8f-a0f9-436143dba338",
   "metadata": {},
   "source": [
    "### Step #1: Understand the Problem Statement\n",
    "\n",
    "The objective of this case study is to **predict the employee salary based on the number of years of experience**.\n",
    "\n",
    "In **simple linear regression**, we predict the value of one variable \\( Y \\) based on another variable \\( X \\).\n",
    "\n",
    "- \\( X \\) is called the **independent variable**.\n",
    "- \\( Y \\) is called the **dependent variable**.\n",
    "\n",
    "**Why simple?** Because it examines the relationship between two variables only.\n",
    "\n",
    "**Why linear?** When the independent variable increases (or decreases), the dependent variable increases (or decreases) in a linear fashion.\n"
   ]
  },
  {
   "cell_type": "markdown",
   "id": "d6ebf7da-3e6a-4582-af14-8911c006faba",
   "metadata": {},
   "source": [
    "### Step #2: Import Libraries and Datasets"
   ]
  },
  {
   "cell_type": "code",
   "execution_count": 178,
   "id": "e61c80ef-d8d3-48b6-988e-0a0b6e8b3c4c",
   "metadata": {},
   "outputs": [],
   "source": [
    "# Importing necessary libraries\n",
    "\n",
    "# TensorFlow for building and training machine learning models\n",
    "import tensorflow as tf\n",
    "\n",
    "# pandas for data manipulation and analysis\n",
    "import pandas as pd\n",
    "\n",
    "# numpy for numerical operations\n",
    "import numpy as np\n",
    "\n",
    "# seaborn for statistical data visualization\n",
    "import seaborn as sns\n",
    "\n",
    "# matplotlib for plotting graphs and visualizations\n",
    "import matplotlib.pyplot as plt\n"
   ]
  },
  {
   "cell_type": "code",
   "execution_count": 179,
   "id": "43e37d9f-5dce-4c69-9064-e8c7b0b835e2",
   "metadata": {},
   "outputs": [
    {
     "name": "stdout",
     "output_type": "stream",
     "text": [
      "Path to dataset files: C:\\Users\\men_l\\.cache\\kagglehub\\datasets\\rohankayan\\years-of-experience-and-salary-dataset\\versions\\1\n"
     ]
    }
   ],
   "source": [
    "# Importing the kagglehub library to interact with Kaggle datasets\n",
    "import kagglehub\n",
    "\n",
    "# Downloading the latest version of the specified dataset from Kaggle\n",
    "# The dataset is identified by its unique identifier \"rohankayan/years-of-experience-and-salary-dataset\"\n",
    "path = kagglehub.dataset_download(\"rohankayan/years-of-experience-and-salary-dataset\")\n",
    "\n",
    "# Printing the local path where the dataset files are saved\n",
    "print(\"Path to dataset files:\", path)\n"
   ]
  },
  {
   "cell_type": "code",
   "execution_count": 180,
   "id": "753eba36-e456-4ef0-94a4-7543a7970af6",
   "metadata": {},
   "outputs": [
    {
     "data": {
      "text/html": [
       "<div>\n",
       "<style scoped>\n",
       "    .dataframe tbody tr th:only-of-type {\n",
       "        vertical-align: middle;\n",
       "    }\n",
       "\n",
       "    .dataframe tbody tr th {\n",
       "        vertical-align: top;\n",
       "    }\n",
       "\n",
       "    .dataframe thead th {\n",
       "        text-align: right;\n",
       "    }\n",
       "</style>\n",
       "<table border=\"1\" class=\"dataframe\">\n",
       "  <thead>\n",
       "    <tr style=\"text-align: right;\">\n",
       "      <th></th>\n",
       "      <th>YearsExperience</th>\n",
       "      <th>Salary</th>\n",
       "    </tr>\n",
       "  </thead>\n",
       "  <tbody>\n",
       "    <tr>\n",
       "      <th>0</th>\n",
       "      <td>1.1</td>\n",
       "      <td>39343.0</td>\n",
       "    </tr>\n",
       "    <tr>\n",
       "      <th>1</th>\n",
       "      <td>1.3</td>\n",
       "      <td>46205.0</td>\n",
       "    </tr>\n",
       "    <tr>\n",
       "      <th>2</th>\n",
       "      <td>1.5</td>\n",
       "      <td>37731.0</td>\n",
       "    </tr>\n",
       "    <tr>\n",
       "      <th>3</th>\n",
       "      <td>2.0</td>\n",
       "      <td>43525.0</td>\n",
       "    </tr>\n",
       "    <tr>\n",
       "      <th>4</th>\n",
       "      <td>2.2</td>\n",
       "      <td>39891.0</td>\n",
       "    </tr>\n",
       "    <tr>\n",
       "      <th>5</th>\n",
       "      <td>2.9</td>\n",
       "      <td>56642.0</td>\n",
       "    </tr>\n",
       "    <tr>\n",
       "      <th>6</th>\n",
       "      <td>3.0</td>\n",
       "      <td>60150.0</td>\n",
       "    </tr>\n",
       "    <tr>\n",
       "      <th>7</th>\n",
       "      <td>3.2</td>\n",
       "      <td>54445.0</td>\n",
       "    </tr>\n",
       "    <tr>\n",
       "      <th>8</th>\n",
       "      <td>3.2</td>\n",
       "      <td>64445.0</td>\n",
       "    </tr>\n",
       "    <tr>\n",
       "      <th>9</th>\n",
       "      <td>3.7</td>\n",
       "      <td>57189.0</td>\n",
       "    </tr>\n",
       "    <tr>\n",
       "      <th>10</th>\n",
       "      <td>3.9</td>\n",
       "      <td>63218.0</td>\n",
       "    </tr>\n",
       "    <tr>\n",
       "      <th>11</th>\n",
       "      <td>4.0</td>\n",
       "      <td>55794.0</td>\n",
       "    </tr>\n",
       "    <tr>\n",
       "      <th>12</th>\n",
       "      <td>4.0</td>\n",
       "      <td>56957.0</td>\n",
       "    </tr>\n",
       "    <tr>\n",
       "      <th>13</th>\n",
       "      <td>4.1</td>\n",
       "      <td>57081.0</td>\n",
       "    </tr>\n",
       "    <tr>\n",
       "      <th>14</th>\n",
       "      <td>4.5</td>\n",
       "      <td>61111.0</td>\n",
       "    </tr>\n",
       "    <tr>\n",
       "      <th>15</th>\n",
       "      <td>4.9</td>\n",
       "      <td>67938.0</td>\n",
       "    </tr>\n",
       "    <tr>\n",
       "      <th>16</th>\n",
       "      <td>5.1</td>\n",
       "      <td>66029.0</td>\n",
       "    </tr>\n",
       "    <tr>\n",
       "      <th>17</th>\n",
       "      <td>5.3</td>\n",
       "      <td>83088.0</td>\n",
       "    </tr>\n",
       "    <tr>\n",
       "      <th>18</th>\n",
       "      <td>5.9</td>\n",
       "      <td>81363.0</td>\n",
       "    </tr>\n",
       "    <tr>\n",
       "      <th>19</th>\n",
       "      <td>6.0</td>\n",
       "      <td>93940.0</td>\n",
       "    </tr>\n",
       "    <tr>\n",
       "      <th>20</th>\n",
       "      <td>6.8</td>\n",
       "      <td>91738.0</td>\n",
       "    </tr>\n",
       "    <tr>\n",
       "      <th>21</th>\n",
       "      <td>7.1</td>\n",
       "      <td>98273.0</td>\n",
       "    </tr>\n",
       "    <tr>\n",
       "      <th>22</th>\n",
       "      <td>7.9</td>\n",
       "      <td>101302.0</td>\n",
       "    </tr>\n",
       "    <tr>\n",
       "      <th>23</th>\n",
       "      <td>8.2</td>\n",
       "      <td>113812.0</td>\n",
       "    </tr>\n",
       "    <tr>\n",
       "      <th>24</th>\n",
       "      <td>8.7</td>\n",
       "      <td>109431.0</td>\n",
       "    </tr>\n",
       "    <tr>\n",
       "      <th>25</th>\n",
       "      <td>9.0</td>\n",
       "      <td>105582.0</td>\n",
       "    </tr>\n",
       "    <tr>\n",
       "      <th>26</th>\n",
       "      <td>9.5</td>\n",
       "      <td>116969.0</td>\n",
       "    </tr>\n",
       "    <tr>\n",
       "      <th>27</th>\n",
       "      <td>9.6</td>\n",
       "      <td>112635.0</td>\n",
       "    </tr>\n",
       "    <tr>\n",
       "      <th>28</th>\n",
       "      <td>10.3</td>\n",
       "      <td>122391.0</td>\n",
       "    </tr>\n",
       "    <tr>\n",
       "      <th>29</th>\n",
       "      <td>10.5</td>\n",
       "      <td>121872.0</td>\n",
       "    </tr>\n",
       "  </tbody>\n",
       "</table>\n",
       "</div>"
      ],
      "text/plain": [
       "    YearsExperience    Salary\n",
       "0               1.1   39343.0\n",
       "1               1.3   46205.0\n",
       "2               1.5   37731.0\n",
       "3               2.0   43525.0\n",
       "4               2.2   39891.0\n",
       "5               2.9   56642.0\n",
       "6               3.0   60150.0\n",
       "7               3.2   54445.0\n",
       "8               3.2   64445.0\n",
       "9               3.7   57189.0\n",
       "10              3.9   63218.0\n",
       "11              4.0   55794.0\n",
       "12              4.0   56957.0\n",
       "13              4.1   57081.0\n",
       "14              4.5   61111.0\n",
       "15              4.9   67938.0\n",
       "16              5.1   66029.0\n",
       "17              5.3   83088.0\n",
       "18              5.9   81363.0\n",
       "19              6.0   93940.0\n",
       "20              6.8   91738.0\n",
       "21              7.1   98273.0\n",
       "22              7.9  101302.0\n",
       "23              8.2  113812.0\n",
       "24              8.7  109431.0\n",
       "25              9.0  105582.0\n",
       "26              9.5  116969.0\n",
       "27              9.6  112635.0\n",
       "28             10.3  122391.0\n",
       "29             10.5  121872.0"
      ]
     },
     "execution_count": 180,
     "metadata": {},
     "output_type": "execute_result"
    }
   ],
   "source": [
    "# Reading the CSV file 'Salary_Data.csv' into a pandas DataFrame\n",
    "# This DataFrame will contain the dataset with employee salary and years of experience\n",
    "salary_df = pd.read_csv('Salary_Data.csv')\n",
    "\n",
    "# Displaying the first few rows of the DataFrame to verify the data has been loaded correctly\n",
    "salary_df\n"
   ]
  },
  {
   "cell_type": "markdown",
   "id": "012afcdd-d0e0-460a-9455-470a4d2faaa9",
   "metadata": {},
   "source": [
    "### Further Steps:\n",
    "\n",
    "1. **Use `head` and `tail` methods to print the first and last 7 rows of the DataFrame:**\n",
    "\n",
    "2. **Try to find the maximum salary value in the DataFrame:**"
   ]
  },
  {
   "cell_type": "code",
   "execution_count": 181,
   "id": "a48c178d-69ea-40db-a8d8-e786c6740cc9",
   "metadata": {},
   "outputs": [
    {
     "data": {
      "text/html": [
       "<div>\n",
       "<style scoped>\n",
       "    .dataframe tbody tr th:only-of-type {\n",
       "        vertical-align: middle;\n",
       "    }\n",
       "\n",
       "    .dataframe tbody tr th {\n",
       "        vertical-align: top;\n",
       "    }\n",
       "\n",
       "    .dataframe thead th {\n",
       "        text-align: right;\n",
       "    }\n",
       "</style>\n",
       "<table border=\"1\" class=\"dataframe\">\n",
       "  <thead>\n",
       "    <tr style=\"text-align: right;\">\n",
       "      <th></th>\n",
       "      <th>YearsExperience</th>\n",
       "      <th>Salary</th>\n",
       "    </tr>\n",
       "  </thead>\n",
       "  <tbody>\n",
       "    <tr>\n",
       "      <th>0</th>\n",
       "      <td>1.1</td>\n",
       "      <td>39343.0</td>\n",
       "    </tr>\n",
       "    <tr>\n",
       "      <th>1</th>\n",
       "      <td>1.3</td>\n",
       "      <td>46205.0</td>\n",
       "    </tr>\n",
       "    <tr>\n",
       "      <th>2</th>\n",
       "      <td>1.5</td>\n",
       "      <td>37731.0</td>\n",
       "    </tr>\n",
       "    <tr>\n",
       "      <th>3</th>\n",
       "      <td>2.0</td>\n",
       "      <td>43525.0</td>\n",
       "    </tr>\n",
       "    <tr>\n",
       "      <th>4</th>\n",
       "      <td>2.2</td>\n",
       "      <td>39891.0</td>\n",
       "    </tr>\n",
       "    <tr>\n",
       "      <th>5</th>\n",
       "      <td>2.9</td>\n",
       "      <td>56642.0</td>\n",
       "    </tr>\n",
       "    <tr>\n",
       "      <th>6</th>\n",
       "      <td>3.0</td>\n",
       "      <td>60150.0</td>\n",
       "    </tr>\n",
       "  </tbody>\n",
       "</table>\n",
       "</div>"
      ],
      "text/plain": [
       "   YearsExperience   Salary\n",
       "0              1.1  39343.0\n",
       "1              1.3  46205.0\n",
       "2              1.5  37731.0\n",
       "3              2.0  43525.0\n",
       "4              2.2  39891.0\n",
       "5              2.9  56642.0\n",
       "6              3.0  60150.0"
      ]
     },
     "execution_count": 181,
     "metadata": {},
     "output_type": "execute_result"
    }
   ],
   "source": [
    "# Display the first 7 rows of the DataFrame\n",
    "salary_df.head(7)"
   ]
  },
  {
   "cell_type": "code",
   "execution_count": 182,
   "id": "1b30000c-3af0-4f63-ae89-b78eded184bd",
   "metadata": {},
   "outputs": [
    {
     "data": {
      "text/html": [
       "<div>\n",
       "<style scoped>\n",
       "    .dataframe tbody tr th:only-of-type {\n",
       "        vertical-align: middle;\n",
       "    }\n",
       "\n",
       "    .dataframe tbody tr th {\n",
       "        vertical-align: top;\n",
       "    }\n",
       "\n",
       "    .dataframe thead th {\n",
       "        text-align: right;\n",
       "    }\n",
       "</style>\n",
       "<table border=\"1\" class=\"dataframe\">\n",
       "  <thead>\n",
       "    <tr style=\"text-align: right;\">\n",
       "      <th></th>\n",
       "      <th>YearsExperience</th>\n",
       "      <th>Salary</th>\n",
       "    </tr>\n",
       "  </thead>\n",
       "  <tbody>\n",
       "    <tr>\n",
       "      <th>23</th>\n",
       "      <td>8.2</td>\n",
       "      <td>113812.0</td>\n",
       "    </tr>\n",
       "    <tr>\n",
       "      <th>24</th>\n",
       "      <td>8.7</td>\n",
       "      <td>109431.0</td>\n",
       "    </tr>\n",
       "    <tr>\n",
       "      <th>25</th>\n",
       "      <td>9.0</td>\n",
       "      <td>105582.0</td>\n",
       "    </tr>\n",
       "    <tr>\n",
       "      <th>26</th>\n",
       "      <td>9.5</td>\n",
       "      <td>116969.0</td>\n",
       "    </tr>\n",
       "    <tr>\n",
       "      <th>27</th>\n",
       "      <td>9.6</td>\n",
       "      <td>112635.0</td>\n",
       "    </tr>\n",
       "    <tr>\n",
       "      <th>28</th>\n",
       "      <td>10.3</td>\n",
       "      <td>122391.0</td>\n",
       "    </tr>\n",
       "    <tr>\n",
       "      <th>29</th>\n",
       "      <td>10.5</td>\n",
       "      <td>121872.0</td>\n",
       "    </tr>\n",
       "  </tbody>\n",
       "</table>\n",
       "</div>"
      ],
      "text/plain": [
       "    YearsExperience    Salary\n",
       "23              8.2  113812.0\n",
       "24              8.7  109431.0\n",
       "25              9.0  105582.0\n",
       "26              9.5  116969.0\n",
       "27              9.6  112635.0\n",
       "28             10.3  122391.0\n",
       "29             10.5  121872.0"
      ]
     },
     "execution_count": 182,
     "metadata": {},
     "output_type": "execute_result"
    }
   ],
   "source": [
    "# Display the last 7 rows of the DataFrame\n",
    "salary_df.tail(7)"
   ]
  },
  {
   "cell_type": "code",
   "execution_count": 183,
   "id": "59ac0dd7-6fd2-4ea0-8351-8b9203b2d58e",
   "metadata": {},
   "outputs": [
    {
     "name": "stdout",
     "output_type": "stream",
     "text": [
      "Maximum Salary: 122391.0\n"
     ]
    }
   ],
   "source": [
    "# Find the maximum salary value in the DataFrame\n",
    "max_salary = salary_df['Salary'].max()\n",
    "print(\"Maximum Salary:\", max_salary)\n"
   ]
  },
  {
   "cell_type": "markdown",
   "id": "de148fdc-d5f1-438e-a1ca-ea5f11923724",
   "metadata": {},
   "source": [
    "### Step #3: Perform Exploratory Data Analysis and Visualization"
   ]
  },
  {
   "cell_type": "code",
   "execution_count": 184,
   "id": "353e8c57-ead5-490a-8f1c-a754a64a2cfc",
   "metadata": {},
   "outputs": [
    {
     "data": {
      "text/plain": [
       "<Axes: >"
      ]
     },
     "execution_count": 184,
     "metadata": {},
     "output_type": "execute_result"
    },
    {
     "data": {
      "image/png": "[encoded data removed]",
      "text/plain": [
       "<Figure size 640x480 with 1 Axes>"
      ]
     },
     "metadata": {},
     "output_type": "display_data"
    }
   ],
   "source": [
    "# Check if there are any null values in the DataFrame\n",
    "# The isnull() method returns a DataFrame of the same shape as salary_df, \n",
    "# with True indicating missing values and False indicating non-missing values.\n",
    "# sns.heatmap() is used to create a heatmap visualization of the null values.\n",
    "# yticklabels=False removes the y-axis labels for a cleaner look.\n",
    "# cbar=False removes the color bar to focus on the presence of null values.\n",
    "# cmap=\"Blues\" sets the color map to shades of blue for better visual distinction.\n",
    "\n",
    "sns.heatmap(salary_df.isnull(), yticklabels=False, cbar=False, cmap=\"Blues\")\n"
   ]
  },
  {
   "cell_type": "code",
   "execution_count": 185,
   "id": "89cd443d-0a7c-4803-9e38-4421847efbb7",
   "metadata": {},
   "outputs": [
    {
     "name": "stdout",
     "output_type": "stream",
     "text": [
      "<class 'pandas.core.frame.DataFrame'>\n",
      "RangeIndex: 30 entries, 0 to 29\n",
      "Data columns (total 2 columns):\n",
      " #   Column           Non-Null Count  Dtype  \n",
      "---  ------           --------------  -----  \n",
      " 0   YearsExperience  30 non-null     float64\n",
      " 1   Salary           30 non-null     float64\n",
      "dtypes: float64(2)\n",
      "memory usage: 612.0 bytes\n"
     ]
    }
   ],
   "source": [
    "# Check the DataFrame info\n",
    "# The info() method provides a concise summary of the DataFrame.\n",
    "# It includes the number of non-null entries, column names, data types, and memory usage.\n",
    "# This is useful for getting an overview of the dataset and identifying any potential issues, such as missing values or incorrect data types.\n",
    "\n",
    "salary_df.info()\n"
   ]
  },
  {
   "cell_type": "code",
   "execution_count": 186,
   "id": "d8de0c3b-f323-4810-8fd1-0795d2410225",
   "metadata": {},
   "outputs": [
    {
     "data": {
      "text/html": [
       "<div>\n",
       "<style scoped>\n",
       "    .dataframe tbody tr th:only-of-type {\n",
       "        vertical-align: middle;\n",
       "    }\n",
       "\n",
       "    .dataframe tbody tr th {\n",
       "        vertical-align: top;\n",
       "    }\n",
       "\n",
       "    .dataframe thead th {\n",
       "        text-align: right;\n",
       "    }\n",
       "</style>\n",
       "<table border=\"1\" class=\"dataframe\">\n",
       "  <thead>\n",
       "    <tr style=\"text-align: right;\">\n",
       "      <th></th>\n",
       "      <th>YearsExperience</th>\n",
       "      <th>Salary</th>\n",
       "    </tr>\n",
       "  </thead>\n",
       "  <tbody>\n",
       "    <tr>\n",
       "      <th>count</th>\n",
       "      <td>30.000000</td>\n",
       "      <td>30.000000</td>\n",
       "    </tr>\n",
       "    <tr>\n",
       "      <th>mean</th>\n",
       "      <td>5.313333</td>\n",
       "      <td>76003.000000</td>\n",
       "    </tr>\n",
       "    <tr>\n",
       "      <th>std</th>\n",
       "      <td>2.837888</td>\n",
       "      <td>27414.429785</td>\n",
       "    </tr>\n",
       "    <tr>\n",
       "      <th>min</th>\n",
       "      <td>1.100000</td>\n",
       "      <td>37731.000000</td>\n",
       "    </tr>\n",
       "    <tr>\n",
       "      <th>25%</th>\n",
       "      <td>3.200000</td>\n",
       "      <td>56720.750000</td>\n",
       "    </tr>\n",
       "    <tr>\n",
       "      <th>50%</th>\n",
       "      <td>4.700000</td>\n",
       "      <td>65237.000000</td>\n",
       "    </tr>\n",
       "    <tr>\n",
       "      <th>75%</th>\n",
       "      <td>7.700000</td>\n",
       "      <td>100544.750000</td>\n",
       "    </tr>\n",
       "    <tr>\n",
       "      <th>max</th>\n",
       "      <td>10.500000</td>\n",
       "      <td>122391.000000</td>\n",
       "    </tr>\n",
       "  </tbody>\n",
       "</table>\n",
       "</div>"
      ],
      "text/plain": [
       "       YearsExperience         Salary\n",
       "count        30.000000      30.000000\n",
       "mean          5.313333   76003.000000\n",
       "std           2.837888   27414.429785\n",
       "min           1.100000   37731.000000\n",
       "25%           3.200000   56720.750000\n",
       "50%           4.700000   65237.000000\n",
       "75%           7.700000  100544.750000\n",
       "max          10.500000  122391.000000"
      ]
     },
     "execution_count": 186,
     "metadata": {},
     "output_type": "execute_result"
    }
   ],
   "source": [
    "# Generate a statistical summary of the DataFrame\n",
    "# The describe() method provides descriptive statistics that summarize the central tendency, dispersion, and shape of a dataset’s distribution.\n",
    "# It includes metrics such as count, mean, standard deviation, minimum, 25th percentile, median (50th percentile), 75th percentile, and maximum.\n",
    "# This summary is useful for understanding the overall distribution and spread of the data.\n",
    "\n",
    "salary_df.describe()\n"
   ]
  },
  {
   "cell_type": "markdown",
   "id": "d03ee3d9-b73b-489a-b5e0-21ba5e060f97",
   "metadata": {},
   "source": [
    "### Further Steps:\n",
    "\n",
    "1. **What are the number of years of experience corresponding to employees with minimum and maximum salaries?**"
   ]
  },
  {
   "cell_type": "code",
   "execution_count": 187,
   "id": "3ce278c7-095e-43c8-aca5-c27490878e16",
   "metadata": {},
   "outputs": [
    {
     "name": "stdout",
     "output_type": "stream",
     "text": [
      "Years of Experience for Minimum Salary: 1.5\n",
      "Years of Experience for Maximum Salary: 10.3\n"
     ]
    }
   ],
   "source": [
    "# Find the number of years of experience for the employee with the minimum salary\n",
    "min_salary_experience = salary_df.loc[salary_df['Salary'].idxmin(), 'YearsExperience']\n",
    "print(\"Years of Experience for Minimum Salary:\", min_salary_experience)\n",
    "\n",
    "# Find the number of years of experience for the employee with the maximum salary\n",
    "max_salary_experience = salary_df.loc[salary_df['Salary'].idxmax(), 'YearsExperience']\n",
    "print(\"Years of Experience for Maximum Salary:\", max_salary_experience)\n"
   ]
  },
  {
   "cell_type": "code",
   "execution_count": 188,
   "id": "cea2952c-c8f4-4048-8e55-4547c9b61eb0",
   "metadata": {},
   "outputs": [
    {
     "data": {
      "text/plain": [
       "array([[<Axes: title={'center': 'YearsExperience'}>,\n",
       "        <Axes: title={'center': 'Salary'}>]], dtype=object)"
      ]
     },
     "execution_count": 188,
     "metadata": {},
     "output_type": "execute_result"
    },
    {
     "data": {
      "image/png": "[encoded data removed]",
      "text/plain": [
       "<Figure size 2000x1000 with 2 Axes>"
      ]
     },
     "metadata": {},
     "output_type": "display_data"
    }
   ],
   "source": [
    "# Create histograms for each numerical column in the DataFrame\n",
    "# The hist() method generates a histogram for each numerical column in the DataFrame.\n",
    "# bins=30 specifies the number of bins to use for the histogram, providing a more granular view of the data distribution.\n",
    "# figsize=(20, 10) sets the size of the figure to 20 inches by 10 inches, making the plot larger and easier to read.\n",
    "# color='r' sets the color of the histograms to red for better visual distinction.\n",
    "\n",
    "salary_df.hist(bins=30, figsize=(20, 10), color='r')\n"
   ]
  },
  {
   "cell_type": "code",
   "execution_count": 189,
   "id": "26037fff-536d-4997-bc5c-cfae0b6c060e",
   "metadata": {},
   "outputs": [
    {
     "data": {
      "text/plain": [
       "<seaborn.axisgrid.PairGrid at 0x2380d38d3d0>"
      ]
     },
     "execution_count": 189,
     "metadata": {},
     "output_type": "execute_result"
    },
    {
     "data": {
      "image/png": "[encoded data removed]",
      "text/plain": [
       "<Figure size 500x500 with 6 Axes>"
      ]
     },
     "metadata": {},
     "output_type": "display_data"
    }
   ],
   "source": [
    "# Plot pairwise relationships in the DataFrame using seaborn's pairplot\n",
    "# The pairplot() function creates a grid of Axes such that each numeric variable in the DataFrame\n",
    "# will be shared across the y-axes across a single row and the x-axes across a single column.\n",
    "# This allows for visualization of the relationships between pairs of variables in the dataset.\n",
    "# By default, pairplot() will create scatter plots for each pair of variables and histograms for the marginal plots along the diagonal.\n",
    "\n",
    "sns.pairplot(salary_df)\n"
   ]
  },
  {
   "cell_type": "code",
   "execution_count": 190,
   "id": "4fe39cdd-2872-4870-b0d6-787920ac6a50",
   "metadata": {},
   "outputs": [
    {
     "data": {
      "image/png": "[encoded data removed]",
      "text/plain": [
       "<Figure size 640x480 with 2 Axes>"
      ]
     },
     "metadata": {},
     "output_type": "display_data"
    }
   ],
   "source": [
    "# Calculate the correlation matrix for the DataFrame\n",
    "# The corr() method computes pairwise correlation of columns, excluding NA/null values.\n",
    "# The resulting correlation matrix shows the correlation coefficients between each pair of columns in the DataFrame.\n",
    "corr_matrix = salary_df.corr()\n",
    "\n",
    "# Create a heatmap to visualize the correlation matrix using seaborn\n",
    "# sns.heatmap() is used to plot the correlation matrix as a heatmap.\n",
    "# annot=True adds the correlation coefficient values as annotations on the heatmap cells.\n",
    "sns.heatmap(corr_matrix, annot=True)\n",
    "\n",
    "# Display the heatmap\n",
    "# plt.show() is used to display the plot.\n",
    "plt.show()\n"
   ]
  },
  {
   "cell_type": "code",
   "execution_count": 191,
   "id": "5df63a71-0f5e-476a-a203-2150e1d310ec",
   "metadata": {},
   "outputs": [
    {
     "data": {
      "image/png": "[encoded data removed]",
      "text/plain": [
       "<Figure size 640x480 with 1 Axes>"
      ]
     },
     "metadata": {},
     "output_type": "display_data"
    }
   ],
   "source": [
    "# Plotting a regression line to show the relationship between 'Salary' and 'YearsExperience'\n",
    "# sns.regplot() creates a scatter plot with a linear regression model fit.\n",
    "# x='YearsExperience' specifies the independent variable.\n",
    "# y='Salary' specifies the dependent variable.\n",
    "# data=salary_df specifies the DataFrame containing the data.\n",
    "# The function will automatically fit a linear regression model and plot the regression line.\n",
    "\n",
    "sns.regplot(x='YearsExperience', y='Salary', data=salary_df)\n",
    "\n",
    "# Display the plot\n",
    "plt.show()\n"
   ]
  },
  {
   "cell_type": "markdown",
   "id": "7f72ec46-ef77-412e-ae4b-db26c9222e0e",
   "metadata": {},
   "source": [
    "### Step 4: Create Training and Testing Dataset"
   ]
  },
  {
   "cell_type": "code",
   "execution_count": 192,
   "id": "309758e1-e7bc-4df4-94fd-137cf4d2f854",
   "metadata": {},
   "outputs": [],
   "source": [
    "# Selecting the feature (independent variable) for the model\n",
    "# X is a DataFrame containing the 'YearsExperience' column from salary_df.\n",
    "# This represents the number of years of experience of the employees.\n",
    "X = salary_df[['YearsExperience']]\n",
    "\n",
    "# Selecting the target (dependent variable) for the model\n",
    "# y is a DataFrame containing the 'Salary' column from salary_df.\n",
    "# This represents the salary of the employees.\n",
    "y = salary_df[['Salary']]\n"
   ]
  },
  {
   "cell_type": "code",
   "execution_count": 193,
   "id": "c30c740d-a47c-4864-976f-2b82562c9dfe",
   "metadata": {},
   "outputs": [
    {
     "data": {
      "text/html": [
       "<div>\n",
       "<style scoped>\n",
       "    .dataframe tbody tr th:only-of-type {\n",
       "        vertical-align: middle;\n",
       "    }\n",
       "\n",
       "    .dataframe tbody tr th {\n",
       "        vertical-align: top;\n",
       "    }\n",
       "\n",
       "    .dataframe thead th {\n",
       "        text-align: right;\n",
       "    }\n",
       "</style>\n",
       "<table border=\"1\" class=\"dataframe\">\n",
       "  <thead>\n",
       "    <tr style=\"text-align: right;\">\n",
       "      <th></th>\n",
       "      <th>YearsExperience</th>\n",
       "    </tr>\n",
       "  </thead>\n",
       "  <tbody>\n",
       "    <tr>\n",
       "      <th>0</th>\n",
       "      <td>1.1</td>\n",
       "    </tr>\n",
       "    <tr>\n",
       "      <th>1</th>\n",
       "      <td>1.3</td>\n",
       "    </tr>\n",
       "    <tr>\n",
       "      <th>2</th>\n",
       "      <td>1.5</td>\n",
       "    </tr>\n",
       "    <tr>\n",
       "      <th>3</th>\n",
       "      <td>2.0</td>\n",
       "    </tr>\n",
       "    <tr>\n",
       "      <th>4</th>\n",
       "      <td>2.2</td>\n",
       "    </tr>\n",
       "  </tbody>\n",
       "</table>\n",
       "</div>"
      ],
      "text/plain": [
       "   YearsExperience\n",
       "0              1.1\n",
       "1              1.3\n",
       "2              1.5\n",
       "3              2.0\n",
       "4              2.2"
      ]
     },
     "execution_count": 193,
     "metadata": {},
     "output_type": "execute_result"
    }
   ],
   "source": [
    "# Display the first few rows of the feature variable X\n",
    "X.head()\n"
   ]
  },
  {
   "cell_type": "code",
   "execution_count": 194,
   "id": "a70ef7d4-27ba-4de7-a57e-ba19145781b0",
   "metadata": {},
   "outputs": [
    {
     "data": {
      "text/html": [
       "<div>\n",
       "<style scoped>\n",
       "    .dataframe tbody tr th:only-of-type {\n",
       "        vertical-align: middle;\n",
       "    }\n",
       "\n",
       "    .dataframe tbody tr th {\n",
       "        vertical-align: top;\n",
       "    }\n",
       "\n",
       "    .dataframe thead th {\n",
       "        text-align: right;\n",
       "    }\n",
       "</style>\n",
       "<table border=\"1\" class=\"dataframe\">\n",
       "  <thead>\n",
       "    <tr style=\"text-align: right;\">\n",
       "      <th></th>\n",
       "      <th>Salary</th>\n",
       "    </tr>\n",
       "  </thead>\n",
       "  <tbody>\n",
       "    <tr>\n",
       "      <th>0</th>\n",
       "      <td>39343.0</td>\n",
       "    </tr>\n",
       "    <tr>\n",
       "      <th>1</th>\n",
       "      <td>46205.0</td>\n",
       "    </tr>\n",
       "    <tr>\n",
       "      <th>2</th>\n",
       "      <td>37731.0</td>\n",
       "    </tr>\n",
       "    <tr>\n",
       "      <th>3</th>\n",
       "      <td>43525.0</td>\n",
       "    </tr>\n",
       "    <tr>\n",
       "      <th>4</th>\n",
       "      <td>39891.0</td>\n",
       "    </tr>\n",
       "  </tbody>\n",
       "</table>\n",
       "</div>"
      ],
      "text/plain": [
       "    Salary\n",
       "0  39343.0\n",
       "1  46205.0\n",
       "2  37731.0\n",
       "3  43525.0\n",
       "4  39891.0"
      ]
     },
     "execution_count": 194,
     "metadata": {},
     "output_type": "execute_result"
    }
   ],
   "source": [
    "# Display the first few rows of the target variable y\n",
    "y.head()\n"
   ]
  },
  {
   "cell_type": "code",
   "execution_count": 195,
   "id": "cde08184-b0fb-4e9d-8736-54b765094a05",
   "metadata": {},
   "outputs": [
    {
     "data": {
      "text/plain": [
       "(30, 1)"
      ]
     },
     "execution_count": 195,
     "metadata": {},
     "output_type": "execute_result"
    }
   ],
   "source": [
    "# Display the shape of the feature variable X\n",
    "X.shape\n"
   ]
  },
  {
   "cell_type": "code",
   "execution_count": 196,
   "id": "39e37a89-2f85-4e6f-902d-517c51fff71b",
   "metadata": {},
   "outputs": [
    {
     "data": {
      "text/plain": [
       "(30, 1)"
      ]
     },
     "execution_count": 196,
     "metadata": {},
     "output_type": "execute_result"
    }
   ],
   "source": [
    "# Display the shape of the target variable y\n",
    "y.shape\n"
   ]
  },
  {
   "cell_type": "code",
   "execution_count": 197,
   "id": "d5a3f17c-8869-435e-bc5c-73ae78ccdb18",
   "metadata": {},
   "outputs": [],
   "source": [
    "import numpy as np\n",
    "\n",
    "# Convert the input data X to a NumPy array of type float32\n",
    "X = np.array(X, dtype='float32')\n",
    "\n",
    "# Convert the target data y to a NumPy array of type float32\n",
    "y = np.array(y, dtype='float32')\n"
   ]
  },
  {
   "cell_type": "markdown",
   "id": "18be9b06-e005-4114-93e9-9e7f477478b5",
   "metadata": {},
   "source": [
    "To scale only the numerical variables in dataset `X`, we can use the `StandardScaler` from the `sklearn.preprocessing` module. This will standardize the features by removing the mean and scaling to unit variance.\n"
   ]
  },
  {
   "cell_type": "code",
   "execution_count": 198,
   "id": "5feda5ce-7cda-4815-b0d2-ca2e358dc362",
   "metadata": {},
   "outputs": [
    {
     "data": {
      "text/plain": [
       "array([[ 1.1],\n",
       "       [ 1.3],\n",
       "       [ 1.5],\n",
       "       [ 2. ],\n",
       "       [ 2.2],\n",
       "       [ 2.9],\n",
       "       [ 3. ],\n",
       "       [ 3.2],\n",
       "       [ 3.2],\n",
       "       [ 3.7],\n",
       "       [ 3.9],\n",
       "       [ 4. ],\n",
       "       [ 4. ],\n",
       "       [ 4.1],\n",
       "       [ 4.5],\n",
       "       [ 4.9],\n",
       "       [ 5.1],\n",
       "       [ 5.3],\n",
       "       [ 5.9],\n",
       "       [ 6. ],\n",
       "       [ 6.8],\n",
       "       [ 7.1],\n",
       "       [ 7.9],\n",
       "       [ 8.2],\n",
       "       [ 8.7],\n",
       "       [ 9. ],\n",
       "       [ 9.5],\n",
       "       [ 9.6],\n",
       "       [10.3],\n",
       "       [10.5]], dtype=float32)"
      ]
     },
     "execution_count": 198,
     "metadata": {},
     "output_type": "execute_result"
    }
   ],
   "source": [
    "# Select only the numerical variables from the dataset and apply scaling to them\n",
    "X"
   ]
  },
  {
   "cell_type": "code",
   "execution_count": 199,
   "id": "b7ef7541-e40f-4b47-9165-e4e48237fe7d",
   "metadata": {},
   "outputs": [
    {
     "name": "stdout",
     "output_type": "stream",
     "text": [
      "   YearsExperience    Salary\n",
      "0        -1.510053 -1.360113\n",
      "1        -1.438373 -1.105527\n",
      "2        -1.366693 -1.419919\n",
      "3        -1.187494 -1.204957\n",
      "4        -1.115814 -1.339781\n"
     ]
    }
   ],
   "source": [
    "from sklearn.preprocessing import StandardScaler\n",
    "\n",
    "# Select only the numerical variables from the DataFrame\n",
    "numerical_df = salary_df.select_dtypes(include=['number'])\n",
    "\n",
    "# Initialize the StandardScaler\n",
    "scaler = StandardScaler()\n",
    "\n",
    "# Apply scaling to the numerical variables\n",
    "scaled_numerical = scaler.fit_transform(numerical_df)\n",
    "\n",
    "# Convert the scaled data back to a DataFrame\n",
    "scaled_numerical_df = pd.DataFrame(scaled_numerical, columns=numerical_df.columns)\n",
    "\n",
    "# Display the first few rows of the scaled DataFrame\n",
    "print(scaled_numerical_df.head())\n"
   ]
  },
  {
   "cell_type": "code",
   "execution_count": 200,
   "id": "732aeef9-64a1-4494-920a-0ef5353e5783",
   "metadata": {},
   "outputs": [],
   "source": [
    "# Import the train_test_split function from scikit-learn's model_selection module\n",
    "from sklearn.model_selection import train_test_split\n",
    "\n",
    "# Split the dataset into training and testing sets\n",
    "# X: Features (input variables)\n",
    "# y: Target variable (output variable)\n",
    "# test_size=0.2: 20% of the data will be used for testing, and 80% for training\n",
    "# The function returns four arrays: X_train, X_test, y_train, y_test\n",
    "X_train, X_test, y_train, y_test = train_test_split(X, y, test_size=0.2, random_state=42)\n",
    "\n",
    "# X_train: Training set features\n",
    "# X_test: Testing set features\n",
    "# y_train: Training set target variable\n",
    "# y_test: Testing set target variable\n"
   ]
  },
  {
   "cell_type": "markdown",
   "id": "56dd808e-7628-4936-af54-6d32706b18ff",
   "metadata": {},
   "source": [
    "## Further Steps\n",
    "\n",
    "1. **Split the Data**:\n",
    "   - Split the data into 75% for training and 25% for testing.\n",
    "\n",
    "2. **Verify the Split**:\n",
    "   - Verify that the split was successful by obtaining the shape of both `X_train` and `X_test`.\n",
    "\n",
    "3. **Check Data Order**:\n",
    "   - Did you notice any change in the order of the data? Explain why this might have happened."
   ]
  },
  {
   "cell_type": "code",
   "execution_count": 201,
   "id": "f9333a1e-505b-4b9c-9840-58419f80b6b6",
   "metadata": {},
   "outputs": [
    {
     "name": "stdout",
     "output_type": "stream",
     "text": [
      "Shape of X_train: (22, 1)\n",
      "Shape of X_test: (8, 1)\n",
      "Shape of y_train: (22, 1)\n",
      "Shape of y_test: (8, 1)\n"
     ]
    }
   ],
   "source": [
    "# Import the train_test_split function from scikit-learn's model_selection module\n",
    "from sklearn.model_selection import train_test_split\n",
    "\n",
    "# Split the dataset into training and testing sets with 75% for training and 25% for testing\n",
    "# random_state=42 ensures reproducibility of the split\n",
    "X_train, X_test, y_train, y_test = train_test_split(X, y, test_size=0.25, random_state=42)\n",
    "\n",
    "# Verify the split by checking the shape of the resulting arrays\n",
    "print(\"Shape of X_train:\", X_train.shape)\n",
    "print(\"Shape of X_test:\", X_test.shape)\n",
    "print(\"Shape of y_train:\", y_train.shape)\n",
    "print(\"Shape of y_test:\", y_test.shape)\n"
   ]
  },
  {
   "cell_type": "markdown",
   "id": "71a70e7a-8a65-4fa9-99e4-d1fbacc8a36e",
   "metadata": {},
   "source": [
    "## Step 5: Train a Linear Regression Model in Scikit-Learn\n",
    "\n",
    "**Note**: SageMaker built-in algorithms are not used here.\n"
   ]
  },
  {
   "cell_type": "code",
   "execution_count": 202,
   "id": "cea7ccb2-e76b-4229-bba9-4b29ea5f86f5",
   "metadata": {},
   "outputs": [
    {
     "name": "stdout",
     "output_type": "stream",
     "text": [
      "Mean Squared Error: 38802592.00\n"
     ]
    }
   ],
   "source": [
    "# Import necessary libraries from scikit-learn\n",
    "from sklearn.linear_model import LinearRegression\n",
    "from sklearn.metrics import mean_squared_error\n",
    "\n",
    "# Initialize the Linear Regression model\n",
    "# fit_intercept=True means that the model will calculate the intercept (bias term)\n",
    "regression_model_sklearn = LinearRegression(fit_intercept=True)\n",
    "\n",
    "# Fit the model to the training data\n",
    "# X_train: Training data features\n",
    "# y_train: Training data target variable\n",
    "regression_model_sklearn.fit(X_train, y_train)\n",
    "\n",
    "# Predict the target variable for the test data\n",
    "# X_test: Test data features\n",
    "y_pred = regression_model_sklearn.predict(X_test)\n",
    "\n",
    "# Calculate the Mean Squared Error (MSE) to evaluate the model's performance\n",
    "# y_test: Actual target values for the test data\n",
    "# y_pred: Predicted target values for the test data\n",
    "mse = mean_squared_error(y_test, y_pred)\n",
    "\n",
    "# Print the Mean Squared Error\n",
    "print(f\"Mean Squared Error: {mse:.2f}\")\n"
   ]
  },
  {
   "cell_type": "code",
   "execution_count": 203,
   "id": "aa7d591b-3783-484b-8231-11927afdcadb",
   "metadata": {},
   "outputs": [
    {
     "name": "stdout",
     "output_type": "stream",
     "text": [
      "Model Accuracy (R^2 score): 0.9347\n"
     ]
    }
   ],
   "source": [
    "# Calculate the accuracy of the regression model using the test data\n",
    "# The score method returns the coefficient of determination R^2 of the prediction\n",
    "# R^2 is a statistical measure that represents the proportion of the variance for a dependent variable\n",
    "# that's explained by an independent variable or variables in a regression model\n",
    "regression_model_sklearn_accuracy = regression_model_sklearn.score(X_test, y_test)\n",
    "\n",
    "# Output the accuracy score\n",
    "# This will print the R^2 score, which ranges from 0 to 1 for a good model\n",
    "print(f\"Model Accuracy (R^2 score): {regression_model_sklearn_accuracy:.4f}\")\n"
   ]
  },
  {
   "cell_type": "code",
   "execution_count": 204,
   "id": "53702b98-8edc-4a1e-8c31-2396298af5d7",
   "metadata": {},
   "outputs": [
    {
     "name": "stdout",
     "output_type": "stream",
     "text": [
      "Linear Model Coefficient (m):  [[9371.018]]\n",
      "Linear Model Intercept (b):  [25478.117]\n"
     ]
    }
   ],
   "source": [
    "# Print the coefficient (slope) of the linear regression model\n",
    "# The coef_ attribute contains the coefficients for the features in the model\n",
    "# For a simple linear regression, this is the slope (m) of the line\n",
    "print('Linear Model Coefficient (m): ', regression_model_sklearn.coef_)\n",
    "\n",
    "# Print the intercept of the linear regression model\n",
    "# The intercept_ attribute contains the intercept (b) of the model\n",
    "# This is the point where the regression line crosses the y-axis\n",
    "print('Linear Model Intercept (b): ', regression_model_sklearn.intercept_)\n"
   ]
  },
  {
   "cell_type": "code",
   "execution_count": 205,
   "id": "fd4bfb4c-3582-4e8a-8c61-e272a0be85aa",
   "metadata": {},
   "outputs": [
    {
     "name": "stdout",
     "output_type": "stream",
     "text": [
      "Linear Model Coefficient (m) with fit_intercept=False:  [[13423.455]]\n",
      "Linear Model Intercept (b) with fit_intercept=False:  0.0\n"
     ]
    }
   ],
   "source": [
    "from sklearn.linear_model import LinearRegression\n",
    "\n",
    "# Initialize the regression model with fit_intercept set to False\n",
    "regression_model_no_intercept = LinearRegression(fit_intercept=False)\n",
    "\n",
    "# Fit the model with the training data\n",
    "regression_model_no_intercept.fit(X_train, y_train)\n",
    "\n",
    "# Print the coefficient(s) of the new model\n",
    "print('Linear Model Coefficient (m) with fit_intercept=False: ', regression_model_no_intercept.coef_)\n",
    "\n",
    "# Print the intercept of the new model\n",
    "# Since fit_intercept=False, the intercept should be zero or very close to zero\n",
    "print('Linear Model Intercept (b) with fit_intercept=False: ', regression_model_no_intercept.intercept_)\n"
   ]
  },
  {
   "cell_type": "markdown",
   "id": "a86edf4b-629e-4f18-a9da-a9c6602fdafd",
   "metadata": {},
   "source": [
    "### Step 6: Evaluate Trained Model Performance\n",
    "\n",
    "**Note:** SageMaker built-in algorithms are not used here."
   ]
  },
  {
   "cell_type": "code",
   "execution_count": 206,
   "id": "6060c46e-1e18-4eb0-8356-1797d9ada6a1",
   "metadata": {},
   "outputs": [
    {
     "name": "stdout",
     "output_type": "stream",
     "text": [
      "Predicted values: [[115439.89 ]\n",
      " [ 71396.11 ]\n",
      " [102320.46 ]\n",
      " [ 75144.516]\n",
      " [ 55465.375]\n",
      " [ 60150.883]\n",
      " [121999.6  ]\n",
      " [107005.97 ]]\n"
     ]
    }
   ],
   "source": [
    "# Predict the target values using the test data\n",
    "# The predict method uses the trained regression model to make predictions on the test dataset\n",
    "# X_test is the input data for which we want to predict the target values\n",
    "y_predict = regression_model_sklearn.predict(X_test)\n",
    "\n",
    "# Output the predicted values\n",
    "# This will print the array of predicted values for the test data\n",
    "print('Predicted values:', y_predict)\n"
   ]
  },
  {
   "cell_type": "code",
   "execution_count": 207,
   "id": "31ce6b93-66c2-4306-b883-f91ed59aeb13",
   "metadata": {},
   "outputs": [
    {
     "data": {
      "image/png": "[encoded data removed]",
      "text/plain": [
       "<Figure size 640x480 with 1 Axes>"
      ]
     },
     "metadata": {},
     "output_type": "display_data"
    }
   ],
   "source": [
    "import matplotlib.pyplot as plt\n",
    "\n",
    "# Scatter plot of the training data\n",
    "# This will plot the actual data points of the training set\n",
    "# X_train is the input feature (Years of Experience) and y_train is the target variable (Salary)\n",
    "plt.scatter(X_train, y_train, color='gray', label='Training data')\n",
    "\n",
    "# Plot the regression line\n",
    "# This will plot the predicted values from the regression model on the training data\n",
    "# The line represents the best fit line according to the linear regression model\n",
    "plt.plot(X_train, regression_model_sklearn.predict(X_train), color='red', label='Regression line')\n",
    "\n",
    "# Label the y-axis\n",
    "# This label indicates that the y-axis represents the Salary\n",
    "plt.ylabel('Salary')\n",
    "\n",
    "# Label the x-axis\n",
    "# This label indicates that the x-axis represents the Number of Years of Experience\n",
    "plt.xlabel('Number of Years of Experience')\n",
    "\n",
    "# Add a title to the plot\n",
    "# The title provides a brief description of what the plot represents\n",
    "plt.title('Salary vs. Years of Experience')\n",
    "\n",
    "# Add a legend to the plot\n",
    "# The legend helps to distinguish between the actual data points and the regression line\n",
    "plt.legend()\n",
    "\n",
    "# Display the plot\n",
    "# This will render the plot in the output\n",
    "plt.show()\n"
   ]
  },
  {
   "cell_type": "code",
   "execution_count": 208,
   "id": "c235314e-df25-45a1-af1b-a0f008c46886",
   "metadata": {},
   "outputs": [
    {
     "name": "stdout",
     "output_type": "stream",
     "text": [
      "Predicted salary for 5 years of experience: $72333.21\n"
     ]
    },
    {
     "name": "stderr",
     "output_type": "stream",
     "text": [
      "C:\\Users\\men_l\\AppData\\Local\\Temp\\ipykernel_36456\\956018194.py:14: DeprecationWarning: Conversion of an array with ndim > 0 to a scalar is deprecated, and will error in future. Ensure you extract a single element from your array before performing this operation. (Deprecated NumPy 1.25.)\n",
      "  predicted_salary_value = float(predicted_salary[0])\n"
     ]
    }
   ],
   "source": [
    "import numpy as np\n",
    "\n",
    "# Define the number of years of experience for which we want to predict the salary\n",
    "years_of_experience = 5\n",
    "\n",
    "# Reshape the input to match the expected shape for the model\n",
    "# The model expects a 2D array, so we reshape the single value into a 2D array\n",
    "experience_array = np.array([[years_of_experience]])\n",
    "\n",
    "# Use the trained regression model to predict the salary\n",
    "predicted_salary = regression_model_sklearn.predict(experience_array)\n",
    "\n",
    "# Convert the predicted salary to a float for proper formatting\n",
    "predicted_salary_value = float(predicted_salary[0])\n",
    "\n",
    "# Output the predicted salary\n",
    "# The .2f format specifier ensures the salary is displayed with two decimal places\n",
    "print(f\"Predicted salary for {years_of_experience} years of experience: ${predicted_salary_value:.2f}\")\n"
   ]
  },
  {
   "cell_type": "markdown",
   "id": "8dd74011-3c3a-4b68-a88b-b8f28d6a219d",
   "metadata": {},
   "source": [
    "### Step 7: Train a Linear Learner Model Using SageMaker\n"
   ]
  },
  {
   "cell_type": "code",
   "execution_count": 209,
   "id": "6509144d-35ec-4101-98c4-598d964b952d",
   "metadata": {},
   "outputs": [
    {
     "name": "stdout",
     "output_type": "stream",
     "text": [
      "arn:aws:iam::471112503258:user/aws-sqs-api-lambda\n"
     ]
    }
   ],
   "source": [
    "import sagemaker\n",
    "import boto3\n",
    "from sagemaker import Session\n",
    "\n",
    "# Create a SageMaker session\n",
    "# The SageMaker session is used to manage interactions with Amazon SageMaker\n",
    "sagemaker_session = sagemaker.Session()\n",
    "\n",
    "# Define the S3 bucket and prefix to use in this session\n",
    "# The default_bucket method creates a default S3 bucket to store model artifacts and datasets\n",
    "bucket = sagemaker_session.default_bucket()\n",
    "\n",
    "# Prefix is the subfolder within the bucket where data will be stored\n",
    "prefix = 'linear_learner'\n",
    "\n",
    "# Instead of getting the execution role, use the configured AWS credentials\n",
    "# Ensure that the IAM user has the necessary permissions\n",
    "role = boto3.client('sts').get_caller_identity().get('Arn')\n",
    "\n",
    "# Print the IAM user ARN to verify\n",
    "print(role)\n"
   ]
  },
  {
   "cell_type": "code",
   "execution_count": 210,
   "id": "3645bba4-9168-40ef-b2c1-b788ade321ce",
   "metadata": {},
   "outputs": [
    {
     "name": "stdout",
     "output_type": "stream",
     "text": [
      "Shape of the training data: (22, 1)\n"
     ]
    }
   ],
   "source": [
    "# Display the shape of the training data\n",
    "# The shape attribute returns a tuple representing the dimensionality of the DataFrame or array\n",
    "# For a 2D array or DataFrame, it returns (number of rows, number of columns)\n",
    "# In the context of machine learning, this typically represents (number of samples, number of features)\n",
    "train_shape = X_train.shape\n",
    "\n",
    "# Print the shape of the training data\n",
    "# This will output the dimensions of the training dataset, helping to understand its structure\n",
    "print(f\"Shape of the training data: {train_shape}\")\n"
   ]
  },
  {
   "cell_type": "code",
   "execution_count": 211,
   "id": "271913a0-3161-48c2-8f98-5c7e03be813b",
   "metadata": {},
   "outputs": [
    {
     "name": "stdout",
     "output_type": "stream",
     "text": [
      "Shape of the target variable: (22,)\n",
      "[ 56957.  39343.  39891.  66029.  56642.  57081.  55794. 101302.  46205.\n",
      "  37731. 105582.  43525.  98273. 116969.  81363. 121872.  91738.  54445.\n",
      "  63218.  61111.  93940.  60150.]\n"
     ]
    }
   ],
   "source": [
    "# Check the shape of y_train to determine if reshaping is necessary\n",
    "# If y_train is already a 1D array, no reshaping is needed\n",
    "if len(y_train.shape) == 2 and y_train.shape[1] == 1:\n",
    "    # Reshape the target variable (y_train) from 2D to 1D\n",
    "    # The slicing operation [:, 0] selects all rows and the first column of y_train\n",
    "    y_train = y_train[:, 0]\n",
    "\n",
    "# Print the shape of the target variable to verify the transformation\n",
    "# This will output the dimensions of y_train, helping to understand its structure\n",
    "print(f\"Shape of the target variable: {y_train.shape}\")\n",
    "\n",
    "# Print the reshaped target variable to verify the transformation\n",
    "print(y_train)\n"
   ]
  },
  {
   "cell_type": "code",
   "execution_count": 212,
   "id": "20a8b728-5ffd-4005-8e91-494a9759caba",
   "metadata": {},
   "outputs": [
    {
     "name": "stdout",
     "output_type": "stream",
     "text": [
      "Shape of the target variable: (22,)\n"
     ]
    }
   ],
   "source": [
    "# Display the shape of the target variable (y_train)\n",
    "# The shape attribute returns a tuple representing the dimensionality of the array or DataFrame\n",
    "# For a 1D array, it returns (number of elements,)\n",
    "# In the context of machine learning, this typically represents the number of samples\n",
    "target_shape = y_train.shape\n",
    "\n",
    "# Print the shape of the target variable\n",
    "# This will output the dimensions of y_train, helping to understand its structure\n",
    "print(f\"Shape of the target variable: {target_shape}\")"
   ]
  },
  {
   "cell_type": "code",
   "execution_count": 213,
   "id": "8d6f9de6-a9aa-4bd5-8f7d-609ce2550b09",
   "metadata": {},
   "outputs": [
    {
     "data": {
      "text/plain": [
       "0"
      ]
     },
     "execution_count": 213,
     "metadata": {},
     "output_type": "execute_result"
    }
   ],
   "source": [
    "import io  # The io module allows for dealing with various types of I/O (text I/O, binary I/O, and raw I/O)\n",
    "import numpy as np\n",
    "import sagemaker.amazon.common as smac  # SageMaker common library for data conversion\n",
    "\n",
    "# Convert the data in numpy array format to RecordIO format\n",
    "# RecordIO is the format required by SageMaker Linear Learner\n",
    "\n",
    "# Create an in-memory byte array (buf is a buffer we will be writing to)\n",
    "buf = io.BytesIO()\n",
    "\n",
    "# Write the numpy arrays (X_train and y_train) to the buffer in RecordIO format\n",
    "# This function converts the numpy arrays to a dense tensor and writes it to the buffer\n",
    "smac.write_numpy_to_dense_tensor(buf, X_train, y_train)\n",
    "\n",
    "# Reset the buffer's current position to the beginning\n",
    "# When you write to in-memory byte arrays, the position increments with each write\n",
    "# Resetting it back to zero allows for reading from the beginning of the buffer\n",
    "buf.seek(0)\n"
   ]
  },
  {
   "cell_type": "code",
   "execution_count": 214,
   "id": "82036c0d-7244-41b0-975f-14b93157a0fc",
   "metadata": {},
   "outputs": [
    {
     "name": "stdout",
     "output_type": "stream",
     "text": [
      "Uploaded training data location: s3://sagemaker-us-east-1-471112503258/linear_learner/train/linear-train-data\n"
     ]
    }
   ],
   "source": [
    "import os\n",
    "import boto3  # Import the Boto3 library, which is the AWS SDK for Python\n",
    "\n",
    "# Define the key for the S3 object\n",
    "# The key is the name of the file that will be stored in the S3 bucket\n",
    "key = 'linear-train-data'\n",
    "\n",
    "# Upload the RecordIO data to the S3 bucket\n",
    "# The following code uploads the data in RecordIO format to the specified S3 bucket and prefix\n",
    "# boto3.resource('s3') creates a resource service client for S3\n",
    "# Bucket(bucket) specifies the S3 bucket to upload to\n",
    "# Object(os.path.join(prefix, 'train', key)) specifies the S3 object (file) path\n",
    "# upload_fileobj(buf) uploads the data from the in-memory byte array (buf) to the specified S3 object\n",
    "boto3.resource('s3').Bucket(bucket).Object(os.path.join(prefix, 'train', key)).upload_fileobj(buf)\n",
    "\n",
    "# Construct the S3 URI for the uploaded training data\n",
    "# This URI can be used to reference the training data in S3\n",
    "s3_train_data = f's3://{bucket}/{prefix}/train/{key}'\n",
    "\n",
    "# Print the S3 URI of the uploaded training data\n",
    "# This provides a confirmation of where the training data has been uploaded in S3\n",
    "print(f'Uploaded training data location: {s3_train_data}')\n"
   ]
  },
  {
   "cell_type": "code",
   "execution_count": 215,
   "id": "a57e3846-3560-4366-ab0a-9b4ee766cacd",
   "metadata": {},
   "outputs": [
    {
     "name": "stdout",
     "output_type": "stream",
     "text": [
      "Shape of the test data: (8, 1)\n"
     ]
    }
   ],
   "source": [
    "# Display the shape of the test data\n",
    "# The shape attribute returns a tuple representing the dimensionality of the DataFrame or array\n",
    "# For a 2D array or DataFrame, it returns (number of rows, number of columns)\n",
    "# In the context of machine learning, this typically represents (number of samples, number of features)\n",
    "test_shape = X_test.shape\n",
    "\n",
    "# Print the shape of the test data\n",
    "# This will output the dimensions of the test dataset, helping to understand its structure\n",
    "print(f\"Shape of the test data: {test_shape}\")\n"
   ]
  },
  {
   "cell_type": "code",
   "execution_count": 216,
   "id": "3d8d837b-064e-4dc5-aed0-700ba137b2e1",
   "metadata": {},
   "outputs": [
    {
     "name": "stdout",
     "output_type": "stream",
     "text": [
      "The shape of y_test is: (8, 1)\n"
     ]
    }
   ],
   "source": [
    "# Get the shape of y_test\n",
    "# y_test.shape returns a tuple representing the dimensions of y_test\n",
    "# In this case, it will return (2,) because y_test contains 2 elements\n",
    "shape_of_y_test = y_test.shape\n",
    "\n",
    "# Print the shape of y_test\n",
    "print(f\"The shape of y_test is: {shape_of_y_test}\")"
   ]
  },
  {
   "cell_type": "code",
   "execution_count": 217,
   "id": "c5f77004-065a-48a6-b4f1-9a99dde34fe0",
   "metadata": {},
   "outputs": [
    {
     "name": "stdout",
     "output_type": "stream",
     "text": [
      "The shape of y_test is: (8,)\n"
     ]
    }
   ],
   "source": [
    "# Ensure that the target label y_test is a one-dimensional vector\n",
    "# Check if y_test is a 2D array with a single column\n",
    "if len(y_test.shape) == 2 and y_test.shape[1] == 1:\n",
    "    # y_test[:, 0] selects all rows and the first column of y_test\n",
    "    y_test = y_test[:, 0]\n",
    "elif len(y_test.shape) > 2:\n",
    "    raise ValueError(\"y_test has more than 2 dimensions, which is not supported.\")\n",
    "# If y_test is already 1D, no changes are needed\n",
    "\n",
    "# Get the shape of y_test\n",
    "# y_test.shape returns a tuple representing the dimensions of y_test\n",
    "shape_of_y_test = y_test.shape\n",
    "\n",
    "# Print the shape of y_test\n",
    "print(f\"The shape of y_test is: {shape_of_y_test}\")\n"
   ]
  },
  {
   "cell_type": "code",
   "execution_count": 218,
   "id": "1aa98ef7-fe62-496d-868e-26c46d6c131e",
   "metadata": {},
   "outputs": [
    {
     "data": {
      "text/plain": [
       "0"
      ]
     },
     "execution_count": 218,
     "metadata": {},
     "output_type": "execute_result"
    }
   ],
   "source": [
    "# Create an in-memory byte array (buf is a buffer we will be writing to)\n",
    "buf = io.BytesIO()\n",
    "\n",
    "# Write the numpy arrays X_test and y_test to the buffer in RecordIO format\n",
    "# This function converts the numpy arrays into a dense tensor and writes it to the buffer\n",
    "smac.write_numpy_to_dense_tensor(buf, X_test, y_test)\n",
    "\n",
    "# Reset the buffer's current position to the beginning\n",
    "# When you write to in-memory byte arrays, the position increments with each write\n",
    "# We reset it back to zero to ensure the entire content can be read from the beginning\n",
    "buf.seek(0)\n"
   ]
  },
  {
   "cell_type": "code",
   "execution_count": 219,
   "id": "ab8307f8-239a-4668-bd04-850fa532e5cf",
   "metadata": {},
   "outputs": [
    {
     "name": "stdout",
     "output_type": "stream",
     "text": [
      "Uploaded testing data location: s3://aws-sqs-api-lambda/linear_learner/test/linear-test-data\n"
     ]
    }
   ],
   "source": [
    "import os\n",
    "import boto3\n",
    "\n",
    "# Key refers to the name of the file to be uploaded to S3\n",
    "key = 'linear-test-data'\n",
    "\n",
    "# Create an S3 resource using boto3\n",
    "# This allows us to interact with the S3 service\n",
    "s3_resource = boto3.resource('s3')\n",
    "\n",
    "# Define the S3 bucket name and the object key (file path in the bucket)\n",
    "# bucket_name is the name of your S3 bucket\n",
    "# object_key is the path within the bucket where the file will be stored\n",
    "bucket_name = 'aws-sqs-api-lambda'\n",
    "object_key = os.path.join(prefix, 'test', key)\n",
    "\n",
    "# Ensure the buffer is open before uploading\n",
    "# buf is the in-memory byte array containing the data to be uploaded\n",
    "# The upload_fileobj method uploads the contents of the buffer to the specified S3 bucket and object key\n",
    "with io.BytesIO() as buf:\n",
    "    # Write the numpy arrays X_test and y_test to the buffer in RecordIO format\n",
    "    smac.write_numpy_to_dense_tensor(buf, X_test, y_test)\n",
    "    \n",
    "    # Reset the buffer's current position to the beginning\n",
    "    buf.seek(0)\n",
    "    \n",
    "    # Upload the buffer content to S3\n",
    "    s3_resource.Bucket(bucket_name).Object(object_key).upload_fileobj(buf)\n",
    "\n",
    "# Construct the S3 URI for the uploaded data\n",
    "# This URI can be used to access the data later for training\n",
    "s3_test_data = f's3://{bucket_name}/{prefix}/test/{key}'\n",
    "\n",
    "# Print out the location of the uploaded testing data in S3\n",
    "print(f'Uploaded testing data location: {s3_test_data}')\n"
   ]
  },
  {
   "cell_type": "code",
   "execution_count": 220,
   "id": "5204c2fd-730c-411d-a14f-e37a96699aa3",
   "metadata": {},
   "outputs": [
    {
     "name": "stdout",
     "output_type": "stream",
     "text": [
      "Training artifacts will be uploaded to: s3://sagemaker-us-east-1-471112503258/linear_learner/output\n"
     ]
    }
   ],
   "source": [
    "# Create an output placeholder in the S3 bucket to store the linear learner output\n",
    "# The output_location variable constructs the S3 URI where the training artifacts will be uploaded\n",
    "output_location = f's3://{bucket}/{prefix}/output'\n",
    "\n",
    "# Print out the location of the training artifacts in S3\n",
    "# This provides a confirmation of where the training artifacts will be stored\n",
    "print(f'Training artifacts will be uploaded to: {output_location}')"
   ]
  },
  {
   "cell_type": "code",
   "execution_count": 221,
   "id": "e1ff61eb-bf0f-439d-9630-bdadc5555a0d",
   "metadata": {},
   "outputs": [
    {
     "name": "stderr",
     "output_type": "stream",
     "text": [
      "WARNING:sagemaker.deprecations:The method get_image_uri has been renamed in sagemaker>=2.\n",
      "See: https://sagemaker.readthedocs.io/en/stable/v2.html for details.\n",
      "INFO:sagemaker.image_uris:Same images used for training and inference. Defaulting to image scope: inference.\n",
      "INFO:sagemaker.image_uris:Ignoring unnecessary instance type: None.\n"
     ]
    },
    {
     "name": "stdout",
     "output_type": "stream",
     "text": [
      "Container image URI for linear-learner: 382416733822.dkr.ecr.us-east-1.amazonaws.com/linear-learner:1\n"
     ]
    }
   ],
   "source": [
    "# Import necessary libraries\n",
    "# boto3 is used to interact with AWS services\n",
    "# sagemaker.amazon.amazon_estimator provides utilities for Amazon SageMaker built-in algorithms\n",
    "import boto3\n",
    "from sagemaker.amazon.amazon_estimator import get_image_uri\n",
    "\n",
    "# Obtain the current AWS region name using boto3.Session\n",
    "# This ensures that the code dynamically adapts to the region where it is executed\n",
    "region = boto3.Session().region_name\n",
    "\n",
    "# Specify the name of the SageMaker built-in algorithm\n",
    "# In this case, we are using the 'linear-learner' algorithm\n",
    "algorithm_name = 'linear-learner'\n",
    "\n",
    "# Obtain the container image URI for the specified algorithm\n",
    "# get_image_uri dynamically retrieves the appropriate container image for the given algorithm and region\n",
    "container = get_image_uri(region, algorithm_name)\n",
    "\n",
    "# Print the container image URI\n",
    "# This provides a confirmation of the container image URI that will be used for training\n",
    "print(f'Container image URI for {algorithm_name}: {container}')\n"
   ]
  },
  {
   "cell_type": "code",
   "execution_count": null,
   "id": "0b309840-6ba7-4924-81f8-d6dc768ba0d5",
   "metadata": {},
   "outputs": [],
   "source": [
    "# import sagemaker\n",
    "# from sagemaker.estimator import Estimator\n",
    "\n",
    "# # Define the container image URI for the SageMaker built-in algorithm\n",
    "# # 'container' holds the URI for the 'linear-learner' algorithm\n",
    "# container = 'container-image-uri'\n",
    "\n",
    "# # Define the IAM role with necessary permissions for SageMaker\n",
    "# # 'role' is the ARN of the IAM role that SageMaker will assume to perform tasks\n",
    "# role = 'your-iam-role-arn'\n",
    "\n",
    "# # Define the output location in S3 for storing the training artifacts\n",
    "# # 'output_location' is the S3 URI where the training output will be saved\n",
    "# output_location = 's3://your-bucket-name/your-prefix/output'\n",
    "\n",
    "# # Create a SageMaker session\n",
    "# # 'sagemaker_session' is an instance of sagemaker.Session()\n",
    "# sagemaker_session = sagemaker.Session()\n",
    "\n",
    "# Initialize the Estimator for the linear learner algorithm\n",
    "# The Estimator requires the container image URI, IAM role, instance count, instance type, output path, and SageMaker session\n",
    "# Additional parameters include using spot instances, maximum run time, and maximum wait time\n",
    "linear = sagemaker.estimator.Estimator(container,\n",
    "                   role,\n",
    "                   instance_count=1,\n",
    "                   instance_type='ml.m5.xlarge',\n",
    "                   output_path=output_location,\n",
    "                   sagemaker_session=sagemaker_session,\n",
    "                   use_spot_instances=True,\n",
    "                   max_run=300,\n",
    "                   max_wait=600)\n",
    "\n",
    "# Spot instances: Using leftover capacity in the cloud to reduce costs\n",
    "# Managed Spot Training savings: Approximately 61.5%, which is a significant cost-saving measure\n",
    "\n",
    "# Set hyperparameters for the linear learner algorithm\n",
    "# These include the number of features, predictor type, mini-batch size, number of epochs, number of models, and loss function\n",
    "linear.set_hyperparameters(feature_dim=1,\n",
    "                           predictor_type='regressor',\n",
    "                           mini_batch_size=5,\n",
    "                           epochs=5,\n",
    "                           num_models=32,\n",
    "                           loss='absolute_loss')\n",
    "\n",
    "# # Define the S3 URI for the training data\n",
    "# # 's3_train_data' is the S3 URI where the training data is stored\n",
    "# s3_train_data = 's3://your-bucket-name/your-prefix/train'\n",
    "\n",
    "# Start the training job by passing the training data location to the fit method\n",
    "# This will train the linear learner model using the specified hyperparameters and training data\n",
    "linear.fit({'train': s3_train_data})\n",
    "\n",
    "# Monitor the training progress using CloudWatch logs\n",
    "# CloudWatch logs provide real-time insights into the training process\n",
    "print('Training job started. Monitor the progress using CloudWatch logs.')\n"
   ]
  },
  {
   "cell_type": "code",
   "execution_count": null,
   "id": "65eb86c3-a338-45c4-b585-af990103f718",
   "metadata": {},
   "outputs": [],
   "source": [
    "linear = sagemaker.estimator.Estimator(container,\n",
    "                                       role, \n",
    "                                       train_instance_count = 1, \n",
    "                                       train_instance_type = 'ml.m5.xlarge',\n",
    "                                       output_path = output_location,\n",
    "                                       sagemaker_session = sagemaker_session,\n",
    "                                       train_use_spot_instances = True,\n",
    "                                       train_max_run=300,\n",
    "                                       train_max_wait = 600)\n",
    "\n",
    "\n",
    "# Spot instances: using leftover space in cloud memory to deploy the model, bargaining the deployment time for less cost\n",
    "# Managed Spot Training savings: 61.5% (important to note for questions on interviews, important business use case)\n",
    "\n",
    "# We can tune parameters like the number of features that we are passing in, type of predictor like 'regressor' or 'classifier', mini batch size, epochs\n",
    "# Train 32 different versions of the model and will get the best out of them (built-in parameters optimization!)\n",
    "\n",
    "linear.set_hyperparameters(feature_dim = 1,\n",
    "                           predictor_type = 'regressor',\n",
    "                           mini_batch_size = 5,\n",
    "                           epochs = 5,\n",
    "                           num_models = 32,\n",
    "                           loss = 'absolute_loss')\n",
    "\n",
    "# Now we are ready to pass in the training data from S3 to train the linear learner model\n",
    "# review tuning the hyperparameters and how they change the accuracy or improve the model\n",
    "\n",
    "linear.fit({'train': s3_train_data})\n",
    "\n",
    "# Let's see the progress using cloudwatch logs"
   ]
  },
  {
   "cell_type": "code",
   "execution_count": null,
   "id": "9023ff8b-08ff-4ac5-93ce-ef6c5713587b",
   "metadata": {},
   "outputs": [],
   "source": []
  }
 ],
 "metadata": {
  "kernelspec": {
   "display_name": "Python 3 (ipykernel)",
   "language": "python",
   "name": "python3"
  },
  "language_info": {
   "codemirror_mode": {
    "name": "ipython",
    "version": 3
   },
   "file_extension": ".py",
   "mimetype": "text/x-python",
   "name": "python",
   "nbconvert_exporter": "python",
   "pygments_lexer": "ipython3",
   "version": "3.12.4"
  }
 },
 "nbformat": 4,
 "nbformat_minor": 5
}
